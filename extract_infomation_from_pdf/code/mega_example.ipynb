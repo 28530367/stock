{
 "cells": [
  {
   "cell_type": "code",
   "execution_count": 1,
   "metadata": {},
   "outputs": [],
   "source": [
    "from mega import Mega\n",
    "import tqdm\n",
    "import pandas as pd\n",
    "import os"
   ]
  },
  {
   "cell_type": "code",
   "execution_count": 2,
   "metadata": {},
   "outputs": [
    {
     "name": "stderr",
     "output_type": "stream",
     "text": [
      "  0%|          | 0/127 [00:00<?, ?it/s]"
     ]
    },
    {
     "name": "stderr",
     "output_type": "stream",
     "text": [
      "100%|██████████| 127/127 [00:29<00:00,  4.35it/s]\n"
     ]
    }
   ],
   "source": [
    "root = '../../files/兆豐/'\n",
    "result = pd.DataFrame()\n",
    "\n",
    "for filename in tqdm.tqdm(os.listdir(root)):\n",
    "    file_path = os.path.join(root, filename)\n",
    "    pdfReader = Mega(file_path)\n",
    "    advisor, version, stock, date, rating_1, rating_2, rating, tp_1, tp_2, \\\n",
    "        tp, author_1, author_2, author, summary_1, summary_2, summary = pdfReader.get_all()\n",
    "    new_row = {'filename':filename, 'advisor':advisor, 'version':version, \\\n",
    "               'rating_1':rating_1, 'rating_2':rating_2, 'rating':rating, \\\n",
    "               'stock':stock, 'date':date, \\\n",
    "               'tp_1':tp_1, 'tp_2':tp_2, 'tp':tp, \\\n",
    "                'author_1':author_1, 'author_2':author_2, 'author':author, \\\n",
    "                'summary_1':summary_1, 'summary_2':summary_2, 'summary':summary}\n",
    "    result = pd.concat([result, pd.DataFrame(new_row, index=[0])], ignore_index=True)\n",
    "    "
   ]
  },
  {
   "cell_type": "code",
   "execution_count": 3,
   "metadata": {},
   "outputs": [],
   "source": [
    "result.to_csv(f'{pdfReader.__class__.__name__}_result.csv', encoding=\"utf_8_sig\")"
   ]
  },
  {
   "cell_type": "code",
   "execution_count": 4,
   "metadata": {},
   "outputs": [
    {
     "name": "stdout",
     "output_type": "stream",
     "text": [
      "filename == \"NULL\": 0\n",
      "advisor == \"NULL\": 1\n",
      "version == \"NULL\": 1\n",
      "stock == \"NULL\": 127\n",
      "date == \"NULL\": 127\n",
      "rating == \"NULL\": 1\n",
      "tp == \"NULL\": 1\n",
      "author == \"NULL\": 7\n",
      "summary == \"NULL\": 1\n"
     ]
    }
   ],
   "source": [
    "col_name = ['filename', 'advisor', 'version', 'stock', 'date', 'rating', 'tp', 'author', 'summary']\n",
    "for col in col_name:\n",
    "    print(f'{col} == \"NULL\": {len(result[result[col] == \"NULL\"])}')\n"
   ]
  },
  {
   "cell_type": "code",
   "execution_count": 5,
   "metadata": {},
   "outputs": [
    {
     "data": {
      "text/plain": [
       "author\n",
       "16                     1\n",
       "2022.10.26             1\n",
       "2022.10.28             1\n",
       "2022.11.14             1\n",
       "2022.11.2              2\n",
       "2022.11.24             1\n",
       "2022.11.9              1\n",
       "2022.12.26             1\n",
       "2023.04.10             1\n",
       "2023.05.11             1\n",
       "2023.05.12             1\n",
       "2023.07.17             1\n",
       "2023.08.02             1\n",
       "2023.1.14              1\n",
       "2023.1.15              1\n",
       "2023.8.7               1\n",
       "235                    1\n",
       "33                     1\n",
       "56                     1\n",
       "675                    1\n",
       "NULL                   7\n",
       "「區間操作」，目標價            11\n",
       "「區間操作」，目標價 40 元        1\n",
       "「區間操作」，目標價$174         1\n",
       "「區間操作」，目標價$99          1\n",
       "「區間操作」，目標價: $ 67.2     1\n",
       "「區間操作」，目標價: $143       1\n",
       "「區間操作」，目標價: $92        1\n",
       "「買進」，目標價               2\n",
       "「逢低買進」，目標價            19\n",
       "「逢低買進」，目標價$140         1\n",
       "「逢低買進」，目標價: $236       1\n",
       "「逢低買進」，目標價: $260       1\n",
       "「逢低買進」，目標價: $30        1\n",
       "「逢低買進」，目標價: $31        1\n",
       "「逢低買進」，目標價: $336       1\n",
       "「逢低買進」，目標價: $37        1\n",
       "無                     54\n",
       "dtype: int64"
      ]
     },
     "execution_count": 5,
     "metadata": {},
     "output_type": "execute_result"
    }
   ],
   "source": [
    "result.groupby([\"author\"]).size()"
   ]
  }
 ],
 "metadata": {
  "kernelspec": {
   "display_name": "venv",
   "language": "python",
   "name": "python3"
  },
  "language_info": {
   "codemirror_mode": {
    "name": "ipython",
    "version": 3
   },
   "file_extension": ".py",
   "mimetype": "text/x-python",
   "name": "python",
   "nbconvert_exporter": "python",
   "pygments_lexer": "ipython3",
   "version": "3.11.1"
  },
  "orig_nbformat": 4
 },
 "nbformat": 4,
 "nbformat_minor": 2
}
