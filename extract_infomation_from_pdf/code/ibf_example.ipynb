{
 "cells": [
  {
   "cell_type": "code",
   "execution_count": 3,
   "metadata": {},
   "outputs": [],
   "source": [
    "from ibf import Ibf\n",
    "import tqdm\n",
    "import pandas as pd\n",
    "import os"
   ]
  },
  {
   "cell_type": "code",
   "execution_count": 4,
   "metadata": {},
   "outputs": [
    {
     "name": "stderr",
     "output_type": "stream",
     "text": [
      " 75%|███████▍  | 137/183 [00:14<00:03, 13.33it/s]"
     ]
    },
    {
     "name": "stdout",
     "output_type": "stream",
     "text": [
      "../../files/國票/6282_康舒_20230207_國票投顧_NULL.pdf\n"
     ]
    },
    {
     "name": "stderr",
     "output_type": "stream",
     "text": [
      "100%|██████████| 183/183 [00:19<00:00,  9.33it/s]\n"
     ]
    }
   ],
   "source": [
    "root = '../../files/國票/'\n",
    "result = pd.DataFrame()\n",
    "\n",
    "for filename in tqdm.tqdm(os.listdir(root)):\n",
    "    try:\n",
    "        file_path = os.path.join(root, filename)\n",
    "        pdfReader = Ibf(file_path)\n",
    "        advisor, version, stock, date, rating_1, rating_2, rating, tp_1, tp_2, \\\n",
    "            tp, author_1, author_2, author, summary_1, summary_2, summary = pdfReader.get_all()\n",
    "        new_row = {'filename':filename, 'advisor':advisor, 'version':version, \\\n",
    "                'rating_1':rating_1, 'rating_2':rating_2, 'rating':rating, \\\n",
    "                'stock':stock, 'date':date, \\\n",
    "                'tp_1':tp_1, 'tp_2':tp_2, 'tp':tp, \\\n",
    "                    'author_1':author_1, 'author_2':author_2, 'author':author, \\\n",
    "                    'summary_1':summary_1, 'summary_2':summary_2, 'summary':summary}\n",
    "        result = pd.concat([result, pd.DataFrame(new_row, index=[0])], ignore_index=True)\n",
    "    except:\n",
    "        file_path = os.path.join(root, filename)\n",
    "        os.remove(file_path)\n",
    "        print(file_path)\n",
    "    \n",
    "    "
   ]
  },
  {
   "cell_type": "code",
   "execution_count": 5,
   "metadata": {},
   "outputs": [],
   "source": [
    "result.to_csv(f'{pdfReader.__class__.__name__}_result.csv', encoding=\"utf_8_sig\")"
   ]
  },
  {
   "cell_type": "code",
   "execution_count": 6,
   "metadata": {},
   "outputs": [
    {
     "name": "stdout",
     "output_type": "stream",
     "text": [
      "filename == \"NULL\": 0\n",
      "advisor == \"NULL\": 0\n",
      "version == \"NULL\": 0\n",
      "stock == \"NULL\": 182\n",
      "date == \"NULL\": 182\n",
      "rating == \"NULL\": 0\n",
      "tp == \"NULL\": 106\n",
      "author == \"NULL\": 1\n",
      "summary == \"NULL\": 9\n"
     ]
    }
   ],
   "source": [
    "col_name = ['filename', 'advisor', 'version', 'stock', 'date', 'rating', 'tp', 'author', 'summary']\n",
    "for col in col_name:\n",
    "    print(f'{col} == \"NULL\": {len(result[result[col] == \"NULL\"])}')\n"
   ]
  },
  {
   "cell_type": "code",
   "execution_count": 7,
   "metadata": {},
   "outputs": [
    {
     "data": {
      "text/plain": [
       "author\n",
       "NULL     1\n",
       "何宗祐     11\n",
       "呂翊亘     14\n",
       "呂金源      1\n",
       "周品三     17\n",
       "徐文華     19\n",
       "方騫      18\n",
       "李惟宇      1\n",
       "林建良      7\n",
       "王嬿婷     15\n",
       "白皓宇     25\n",
       "蔡志昇     12\n",
       "陳威哲      8\n",
       "高松楚     19\n",
       "黃國育     14\n",
       "dtype: int64"
      ]
     },
     "execution_count": 7,
     "metadata": {},
     "output_type": "execute_result"
    }
   ],
   "source": [
    "result.groupby([\"author\"]).size()"
   ]
  }
 ],
 "metadata": {
  "kernelspec": {
   "display_name": "venv",
   "language": "python",
   "name": "python3"
  },
  "language_info": {
   "codemirror_mode": {
    "name": "ipython",
    "version": 3
   },
   "file_extension": ".py",
   "mimetype": "text/x-python",
   "name": "python",
   "nbconvert_exporter": "python",
   "pygments_lexer": "ipython3",
   "version": "3.11.1"
  },
  "orig_nbformat": 4
 },
 "nbformat": 4,
 "nbformat_minor": 2
}
