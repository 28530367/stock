{
 "cells": [
  {
   "cell_type": "code",
   "execution_count": 1,
   "metadata": {},
   "outputs": [],
   "source": [
    "from masterlink import Masterlink\n",
    "import tqdm\n",
    "import pandas as pd\n",
    "import os"
   ]
  },
  {
   "cell_type": "code",
   "execution_count": 2,
   "metadata": {},
   "outputs": [
    {
     "name": "stderr",
     "output_type": "stream",
     "text": [
      "  0%|          | 1/1165 [00:00<01:58,  9.83it/s]"
     ]
    },
    {
     "name": "stderr",
     "output_type": "stream",
     "text": [
      "  1%|          | 14/1165 [00:01<01:18, 14.72it/s]"
     ]
    },
    {
     "name": "stdout",
     "output_type": "stream",
     "text": [
      "../../files/元富/1216_統一_20231117_元富_維持買進_NULL.pdf\n"
     ]
    },
    {
     "name": "stderr",
     "output_type": "stream",
     "text": [
      " 11%|█         | 128/1165 [00:08<01:07, 15.37it/s]"
     ]
    },
    {
     "name": "stdout",
     "output_type": "stream",
     "text": [
      "../../files/元富/1795_美時_20231117_元富_維持買進_NULL.pdf\n",
      "../../files/元富/1905_華紙_20231117_元富_評等中立_NULL.pdf\n"
     ]
    },
    {
     "name": "stderr",
     "output_type": "stream",
     "text": [
      " 11%|█▏        | 133/1165 [00:08<01:04, 16.06it/s]"
     ]
    },
    {
     "name": "stdout",
     "output_type": "stream",
     "text": [
      "../../files/元富/1907_永豐餘_20231117_元富_評等中立_NULL.pdf\n"
     ]
    },
    {
     "name": "stderr",
     "output_type": "stream",
     "text": [
      " 16%|█▌        | 185/1165 [00:11<00:48, 20.37it/s]"
     ]
    },
    {
     "name": "stdout",
     "output_type": "stream",
     "text": [
      "../../files/元富/2207_和泰車_20231117_元富_維持買進_NULL.pdf\n"
     ]
    },
    {
     "name": "stderr",
     "output_type": "stream",
     "text": [
      " 18%|█▊        | 215/1165 [00:13<00:53, 17.77it/s]"
     ]
    },
    {
     "name": "stdout",
     "output_type": "stream",
     "text": [
      "../../files/元富/2317_鴻海_20231117_元富_維持買進_NULL.pdf\n"
     ]
    },
    {
     "name": "stderr",
     "output_type": "stream",
     "text": [
      " 96%|█████████▋| 1123/1165 [01:11<00:02, 14.01it/s]"
     ]
    },
    {
     "name": "stdout",
     "output_type": "stream",
     "text": [
      "../../files/元富/9802_鈺齊-KY_20231117_元富_維持買進_NULL.pdf\n"
     ]
    },
    {
     "name": "stderr",
     "output_type": "stream",
     "text": [
      "100%|██████████| 1165/1165 [01:15<00:00, 15.41it/s]\n"
     ]
    }
   ],
   "source": [
    "root = '../../files/元富/'\n",
    "result = pd.DataFrame()\n",
    "\n",
    "for filename in tqdm.tqdm(os.listdir(root)):\n",
    "    try:\n",
    "        file_path = os.path.join(root, filename)\n",
    "        pdfReader = Masterlink(file_path)\n",
    "        advisor, version, stock, date, rating_1, rating_2, rating, tp_1, tp_2, \\\n",
    "            tp, author_1, author_2, author, summary_1, summary_2, summary = pdfReader.get_all()\n",
    "        new_row = {'filename':filename, 'advisor':advisor, 'version':version, \\\n",
    "                'rating_1':rating_1, 'rating_2':rating_2, 'rating':rating, \\\n",
    "                'stock':stock, 'date':date, \\\n",
    "                'tp_1':tp_1, 'tp_2':tp_2, 'tp':tp, \\\n",
    "                    'author_1':author_1, 'author_2':author_2, 'author':author, \\\n",
    "                    'summary_1':summary_1, 'summary_2':summary_2, 'summary':summary}\n",
    "        result = pd.concat([result, pd.DataFrame(new_row, index=[0])], ignore_index=True)\n",
    "    except:\n",
    "        file_path = os.path.join(root, filename)\n",
    "        os.remove(file_path)\n",
    "        print(file_path)\n",
    "    "
   ]
  },
  {
   "cell_type": "code",
   "execution_count": 3,
   "metadata": {},
   "outputs": [],
   "source": [
    "result.to_csv(f'{pdfReader.__class__.__name__}_result.csv', encoding=\"utf_8_sig\")"
   ]
  },
  {
   "cell_type": "code",
   "execution_count": 4,
   "metadata": {},
   "outputs": [
    {
     "name": "stdout",
     "output_type": "stream",
     "text": [
      "filename == \"NULL\": 0\n",
      "advisor == \"NULL\": 8\n",
      "version == \"NULL\": 56\n",
      "stock == \"NULL\": 1158\n",
      "date == \"NULL\": 1158\n",
      "rating == \"NULL\": 56\n",
      "tp == \"NULL\": 721\n",
      "author == \"NULL\": 713\n",
      "summary == \"NULL\": 713\n"
     ]
    }
   ],
   "source": [
    "col_name = ['filename', 'advisor', 'version', 'stock', 'date', 'rating', 'tp', 'author', 'summary']\n",
    "for col in col_name:\n",
    "    print(f'{col} == \"NULL\": {len(result[result[col] == \"NULL\"])}')\n"
   ]
  },
  {
   "cell_type": "code",
   "execution_count": 5,
   "metadata": {},
   "outputs": [
    {
     "data": {
      "text/plain": [
       "author\n",
       "NULL    713\n",
       "傅恒聿       1\n",
       "林修齊      30\n",
       "柯亮宇      32\n",
       "梁立人       1\n",
       "楊智翔      18\n",
       "洪浚哲      20\n",
       "游信凱       2\n",
       "王琮生      32\n",
       "簡宏育       5\n",
       "葉主揚      31\n",
       "蕭淑君      36\n",
       "蘇宜家      40\n",
       "蘇建彰      29\n",
       "蘇鵲翎      29\n",
       "許婷婷      17\n",
       "邱齡慧       2\n",
       "陳怡如      21\n",
       "陳立達      31\n",
       "陳芷筠      14\n",
       "顏志龍      34\n",
       "黃筱薇      20\n",
       "dtype: int64"
      ]
     },
     "execution_count": 5,
     "metadata": {},
     "output_type": "execute_result"
    }
   ],
   "source": [
    "result.groupby([\"author\"]).size()"
   ]
  }
 ],
 "metadata": {
  "kernelspec": {
   "display_name": "venv",
   "language": "python",
   "name": "python3"
  },
  "language_info": {
   "codemirror_mode": {
    "name": "ipython",
    "version": 3
   },
   "file_extension": ".py",
   "mimetype": "text/x-python",
   "name": "python",
   "nbconvert_exporter": "python",
   "pygments_lexer": "ipython3",
   "version": "3.11.1"
  },
  "orig_nbformat": 4
 },
 "nbformat": 4,
 "nbformat_minor": 2
}
