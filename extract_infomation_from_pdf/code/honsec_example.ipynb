{
 "cells": [
  {
   "cell_type": "code",
   "execution_count": 1,
   "metadata": {},
   "outputs": [],
   "source": [
    "from honsec import Honsec\n",
    "import tqdm\n",
    "import pandas as pd\n",
    "import os"
   ]
  },
  {
   "cell_type": "code",
   "execution_count": 2,
   "metadata": {},
   "outputs": [
    {
     "name": "stderr",
     "output_type": "stream",
     "text": [
      "  0%|          | 0/306 [00:00<?, ?it/s]"
     ]
    },
    {
     "name": "stderr",
     "output_type": "stream",
     "text": [
      "100%|██████████| 306/306 [00:53<00:00,  5.76it/s]\n"
     ]
    }
   ],
   "source": [
    "root = '../../files/宏遠/'\n",
    "result = pd.DataFrame()\n",
    "\n",
    "for filename in tqdm.tqdm(os.listdir(root)):\n",
    "    file_path = os.path.join(root, filename)\n",
    "    pdfReader = Honsec(file_path)\n",
    "    advisor, version, stock, date, rating_1, rating_2, rating, tp_1, tp_2, \\\n",
    "        tp, author_1, author_2, author, summary_1, summary_2, summary = pdfReader.get_all()\n",
    "    new_row = {'filename':filename, 'advisor':advisor, 'version':version, \\\n",
    "               'rating_1':rating_1, 'rating_2':rating_2, 'rating':rating, \\\n",
    "               'stock':stock, 'date':date, \\\n",
    "               'tp_1':tp_1, 'tp_2':tp_2, 'tp':tp, \\\n",
    "                'author_1':author_1, 'author_2':author_2, 'author':author, \\\n",
    "                'summary_1':summary_1, 'summary_2':summary_2, 'summary':summary}\n",
    "    result = pd.concat([result, pd.DataFrame(new_row, index=[0])], ignore_index=True)\n",
    "    "
   ]
  },
  {
   "cell_type": "code",
   "execution_count": 3,
   "metadata": {},
   "outputs": [],
   "source": [
    "result.to_csv(f'{pdfReader.__class__.__name__}_result.csv', encoding=\"utf_8_sig\")"
   ]
  },
  {
   "cell_type": "code",
   "execution_count": 4,
   "metadata": {},
   "outputs": [
    {
     "name": "stdout",
     "output_type": "stream",
     "text": [
      "filename == \"NULL\": 0\n",
      "advisor == \"NULL\": 0\n",
      "version == \"NULL\": 0\n",
      "stock == \"NULL\": 0\n",
      "date == \"NULL\": 57\n",
      "rating == \"NULL\": 12\n",
      "tp == \"NULL\": 163\n",
      "author == \"NULL\": 0\n",
      "summary == \"NULL\": 0\n"
     ]
    }
   ],
   "source": [
    "col_name = ['filename', 'advisor', 'version', 'stock', 'date', 'rating', 'tp', 'author', 'summary']\n",
    "for col in col_name:\n",
    "    print(f'{col} == \"NULL\": {len(result[result[col] == \"NULL\"])}')\n"
   ]
  },
  {
   "cell_type": "code",
   "execution_count": 5,
   "metadata": {},
   "outputs": [
    {
     "data": {
      "text/plain": [
       "author\n",
       "吳柏炘 (Andy Wu)           35\n",
       "吳英頡 (Jason Wu)          24\n",
       "方姿婷 (Lesley Fang)       21\n",
       "方姿婷(Lesley Fang)         1\n",
       "林奕頎(Yichi Lin)          28\n",
       "林奕頎（Yichi Lin）          11\n",
       "林貞妤                     20\n",
       "洪 國 峰 (Titan Horng)    104\n",
       "羅 金 鳳 (Sunny Lo)        24\n",
       "翁浩軒 (                    1\n",
       "翁浩軒 (Davy Wong)         20\n",
       "陳鈞煥(Zap Chen)           17\n",
       "dtype: int64"
      ]
     },
     "execution_count": 5,
     "metadata": {},
     "output_type": "execute_result"
    }
   ],
   "source": [
    "result.groupby([\"author\"]).size()"
   ]
  }
 ],
 "metadata": {
  "kernelspec": {
   "display_name": "venv",
   "language": "python",
   "name": "python3"
  },
  "language_info": {
   "codemirror_mode": {
    "name": "ipython",
    "version": 3
   },
   "file_extension": ".py",
   "mimetype": "text/x-python",
   "name": "python",
   "nbconvert_exporter": "python",
   "pygments_lexer": "ipython3",
   "version": "3.11.1"
  },
  "orig_nbformat": 4
 },
 "nbformat": 4,
 "nbformat_minor": 2
}
