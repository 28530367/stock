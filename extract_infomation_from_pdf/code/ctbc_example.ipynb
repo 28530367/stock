{
 "cells": [
  {
   "cell_type": "code",
   "execution_count": 1,
   "metadata": {},
   "outputs": [],
   "source": [
    "from ctbc import Ctbc\n",
    "import tqdm\n",
    "import pandas as pd\n",
    "import os"
   ]
  },
  {
   "cell_type": "code",
   "execution_count": 2,
   "metadata": {},
   "outputs": [
    {
     "name": "stderr",
     "output_type": "stream",
     "text": [
      "  0%|          | 2/583 [00:00<01:51,  5.21it/s]"
     ]
    },
    {
     "name": "stderr",
     "output_type": "stream",
     "text": [
      "100%|██████████| 583/583 [01:21<00:00,  7.18it/s]\n"
     ]
    }
   ],
   "source": [
    "root = '../../files/中信託/'\n",
    "result = pd.DataFrame()\n",
    "\n",
    "for filename in tqdm.tqdm(os.listdir(root)):\n",
    "    file_path = os.path.join(root, filename)\n",
    "    pdfReader = Ctbc(file_path)\n",
    "    advisor, version, stock, date, rating_1, rating_2, rating, tp_1, tp_2, \\\n",
    "        tp, author_1, author_2, author, summary_1, summary_2, summary = pdfReader.get_all()\n",
    "    new_row = {'filename':filename, 'advisor':advisor, 'version':version, \\\n",
    "               'rating_1':rating_1, 'rating_2':rating_2, 'rating':rating, \\\n",
    "               'stock':stock, 'date':date, \\\n",
    "               'tp_1':tp_1, 'tp_2':tp_2, 'tp':tp, \\\n",
    "                'author_1':author_1, 'author_2':author_2, 'author':author, \\\n",
    "                'summary_1':summary_1, 'summary_2':summary_2, 'summary':summary}\n",
    "    result = pd.concat([result, pd.DataFrame(new_row, index=[0])], ignore_index=True)\n",
    "    "
   ]
  },
  {
   "cell_type": "code",
   "execution_count": 3,
   "metadata": {},
   "outputs": [],
   "source": [
    "result.to_csv(f'{pdfReader.__class__.__name__}_result.csv', encoding=\"utf_8_sig\")"
   ]
  },
  {
   "cell_type": "code",
   "execution_count": 4,
   "metadata": {},
   "outputs": [
    {
     "name": "stdout",
     "output_type": "stream",
     "text": [
      "filename == \"NULL\": 0\n",
      "advisor == \"NULL\": 5\n",
      "version == \"NULL\": 69\n",
      "stock == \"NULL\": 583\n",
      "date == \"NULL\": 583\n",
      "rating == \"NULL\": 72\n",
      "tp == \"NULL\": 177\n",
      "author == \"NULL\": 16\n",
      "summary == \"NULL\": 69\n"
     ]
    }
   ],
   "source": [
    "col_name = ['filename', 'advisor', 'version', 'stock', 'date', 'rating', 'tp', 'author', 'summary']\n",
    "for col in col_name:\n",
    "    print(f'{col} == \"NULL\": {len(result[result[col] == \"NULL\"])}')\n"
   ]
  },
  {
   "cell_type": "code",
   "execution_count": 5,
   "metadata": {},
   "outputs": [
    {
     "data": {
      "text/plain": [
       "rating\n",
       "NULL                  72\n",
       "中立                    16\n",
       "中立(Neutral)          127\n",
       "增加持股                  16\n",
       "增加持股(OW)              18\n",
       "增加持股(Overweight)     199\n",
       "增加持股(OＷ)               1\n",
       "未評等                   25\n",
       "未評等(Not Rated)        10\n",
       "買進                     4\n",
       "買進(Buy)               92\n",
       "降低持股(Underweight)      3\n",
       "dtype: int64"
      ]
     },
     "execution_count": 5,
     "metadata": {},
     "output_type": "execute_result"
    }
   ],
   "source": [
    "result.groupby([\"rating\"]).size()"
   ]
  },
  {
   "cell_type": "code",
   "execution_count": 7,
   "metadata": {},
   "outputs": [
    {
     "data": {
      "text/plain": [
       "tp\n",
       "10.5       1\n",
       "11.76      2\n",
       "14.2       1\n",
       "15.2       1\n",
       "15.27      1\n",
       "        ... \n",
       "900.0      2\n",
       "946.0      1\n",
       "970.0      2\n",
       "980.0      2\n",
       "NULL     177\n",
       "Length: 215, dtype: int64"
      ]
     },
     "execution_count": 7,
     "metadata": {},
     "output_type": "execute_result"
    }
   ],
   "source": [
    "result.groupby([\"tp\"]).size()"
   ]
  },
  {
   "cell_type": "code",
   "execution_count": 6,
   "metadata": {},
   "outputs": [
    {
     "data": {
      "text/plain": [
       "author\n",
       "                            54\n",
       "NASDAQ                      28\n",
       "NULL                        16\n",
       "史聖國                         24\n",
       "吳宇鎣                          1\n",
       "張晨                          46\n",
       "張誠文                         35\n",
       "徐千智                         28\n",
       "李政穎                         55\n",
       "林全聖                          1\n",
       "江釗亨                         18\n",
       "游智超                          2\n",
       "營收走勢圖                        1\n",
       "盤劭賢                          3\n",
       "稅後淨利 4.66 億元，YoY +16.3%，     1\n",
       "竺貽根                         38\n",
       "蔡欣妤                         18\n",
       "賴子琁                          2\n",
       "賴子璇                         16\n",
       "賴彥維                         21\n",
       "鄭羽涵                         10\n",
       "陳曉琪                         25\n",
       "陳澤心                         23\n",
       "陳致鋼                         36\n",
       "韓國KOSPI                     23\n",
       "魏均兆                         34\n",
       "黃勵誠                         21\n",
       "黃千千                          1\n",
       " 公司基本資料                     1\n",
       " 除權息狀況                      1\n",
       "dtype: int64"
      ]
     },
     "execution_count": 6,
     "metadata": {},
     "output_type": "execute_result"
    }
   ],
   "source": [
    "result.groupby([\"author\"]).size()"
   ]
  }
 ],
 "metadata": {
  "kernelspec": {
   "display_name": "venv",
   "language": "python",
   "name": "python3"
  },
  "language_info": {
   "codemirror_mode": {
    "name": "ipython",
    "version": 3
   },
   "file_extension": ".py",
   "mimetype": "text/x-python",
   "name": "python",
   "nbconvert_exporter": "python",
   "pygments_lexer": "ipython3",
   "version": "3.11.1"
  },
  "orig_nbformat": 4
 },
 "nbformat": 4,
 "nbformat_minor": 2
}
