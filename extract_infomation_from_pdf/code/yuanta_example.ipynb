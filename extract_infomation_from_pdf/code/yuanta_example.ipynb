{
 "cells": [
  {
   "cell_type": "code",
   "execution_count": 1,
   "metadata": {},
   "outputs": [],
   "source": [
    "from yuanta import Yuanta\n",
    "import tqdm\n",
    "import pandas as pd\n",
    "import os"
   ]
  },
  {
   "cell_type": "code",
   "execution_count": 2,
   "metadata": {},
   "outputs": [
    {
     "name": "stderr",
     "output_type": "stream",
     "text": [
      "  0%|          | 0/253 [00:00<?, ?it/s]"
     ]
    },
    {
     "name": "stderr",
     "output_type": "stream",
     "text": [
      "100%|██████████| 253/253 [01:03<00:00,  4.00it/s]\n"
     ]
    }
   ],
   "source": [
    "root = '../../files/元大/'\n",
    "result = pd.DataFrame()\n",
    "\n",
    "for filename in tqdm.tqdm(os.listdir(root)):\n",
    "    file_path = os.path.join(root, filename)\n",
    "    pdfReader = Yuanta(file_path)\n",
    "    advisor, version, stock, date, rating_1, rating_2, rating, tp_1, tp_2, \\\n",
    "        tp, author_1, author_2, author, summary_1, summary_2, summary = pdfReader.get_all()\n",
    "    new_row = {'filename':filename, 'advisor':advisor, 'version':version, \\\n",
    "               'rating_1':rating_1, 'rating_2':rating_2, 'rating':rating, \\\n",
    "               'stock':stock, 'date':date, \\\n",
    "               'tp_1':tp_1, 'tp_2':tp_2, 'tp':tp, \\\n",
    "                'author_1':author_1, 'author_2':author_2, 'author':author, \\\n",
    "                'summary_1':summary_1, 'summary_2':summary_2, 'summary':summary}\n",
    "    result = pd.concat([result, pd.DataFrame(new_row, index=[0])], ignore_index=True)\n",
    "    "
   ]
  },
  {
   "cell_type": "code",
   "execution_count": 3,
   "metadata": {},
   "outputs": [],
   "source": [
    "result.to_csv(f'{pdfReader.__class__.__name__}_result.csv', encoding=\"utf_8_sig\")"
   ]
  },
  {
   "cell_type": "code",
   "execution_count": 4,
   "metadata": {},
   "outputs": [
    {
     "name": "stdout",
     "output_type": "stream",
     "text": [
      "filename == \"NULL\": 0\n",
      "advisor == \"NULL\": 0\n",
      "version == \"NULL\": 22\n",
      "stock == \"NULL\": 253\n",
      "date == \"NULL\": 253\n",
      "rating == \"NULL\": 42\n",
      "tp == \"NULL\": 166\n",
      "author == \"NULL\": 63\n",
      "summary == \"NULL\": 22\n"
     ]
    }
   ],
   "source": [
    "col_name = ['filename', 'advisor', 'version', 'stock', 'date', 'rating', 'tp', 'author', 'summary']\n",
    "for col in col_name:\n",
    "    print(f'{col} == \"NULL\": {len(result[result[col] == \"NULL\"])}')\n"
   ]
  },
  {
   "cell_type": "code",
   "execution_count": 5,
   "metadata": {},
   "outputs": [
    {
     "data": {
      "text/plain": [
       "author\n",
       "+886 2 3518 7908                            1\n",
       "NULL                                       63\n",
       "g                                          20\n",
       "https://report.yuanta-consulting.com.tw     4\n",
       "j                                           4\n",
       "p ggy                                       5\n",
       "y                                          65\n",
       "以下研究人員對本報告有重大貢獻：                           18\n",
       "劉 誠新                                        2\n",
       "孫 伯勛                                        1\n",
       "張 晏榮                                        1\n",
       "張晏榮                                         3\n",
       "徐銘晙                                         4\n",
       "施 姵帆                                        2\n",
       "李 昀儒                                        1\n",
       "李維                                          1\n",
       "楊凱宇                                         2\n",
       "現金股利(元)                                     2\n",
       "胡 逸如                                        1\n",
       "蔡爵丞                                         7\n",
       "蔣欣穎                                         7\n",
       "蘇 子錚                                        2\n",
       "蘇子錚                                         2\n",
       "陳 娟娟                                        2\n",
       "陳 德穎                                        4\n",
       "陳 玫芬                                        4\n",
       "陳 玫芬 合格證券投資分析人員 & CFP                       2\n",
       "陳娟娟                                         5\n",
       "陳玫芬                                         1\n",
       "陳穆萱                                         5\n",
       "陳韻筑                                         2\n",
       "魏 建發 合格證券投資分析人員                             1\n",
       "魏建發                                         3\n",
       "魏建發 合格證券投資分析人員                              1\n",
       "黃政維                                         5\n",
       "dtype: int64"
      ]
     },
     "execution_count": 5,
     "metadata": {},
     "output_type": "execute_result"
    }
   ],
   "source": [
    "result.groupby([\"author\"]).size()"
   ]
  }
 ],
 "metadata": {
  "kernelspec": {
   "display_name": "venv",
   "language": "python",
   "name": "python3"
  },
  "language_info": {
   "codemirror_mode": {
    "name": "ipython",
    "version": 3
   },
   "file_extension": ".py",
   "mimetype": "text/x-python",
   "name": "python",
   "nbconvert_exporter": "python",
   "pygments_lexer": "ipython3",
   "version": "3.11.1"
  },
  "orig_nbformat": 4
 },
 "nbformat": 4,
 "nbformat_minor": 2
}
