{
 "cells": [
  {
   "cell_type": "code",
   "execution_count": 1,
   "metadata": {},
   "outputs": [],
   "source": [
    "from cathay import Cathay\n",
    "import tqdm\n",
    "import pandas as pd\n",
    "import os"
   ]
  },
  {
   "cell_type": "code",
   "execution_count": 2,
   "metadata": {},
   "outputs": [
    {
     "name": "stderr",
     "output_type": "stream",
     "text": [
      "  0%|          | 0/113 [00:00<?, ?it/s]"
     ]
    },
    {
     "name": "stderr",
     "output_type": "stream",
     "text": [
      "100%|██████████| 113/113 [00:26<00:00,  4.35it/s]\n"
     ]
    }
   ],
   "source": [
    "root = '../../files/國泰/'\n",
    "result = pd.DataFrame()\n",
    "\n",
    "for filename in tqdm.tqdm(os.listdir(root)):\n",
    "    file_path = os.path.join(root, filename)\n",
    "    pdfReader = Cathay(file_path)\n",
    "    advisor, version, stock, date, rating_1, rating_2, rating, tp_1, tp_2, \\\n",
    "        tp, author_1, author_2, author, summary_1, summary_2, summary = pdfReader.get_all()\n",
    "    new_row = {'filename':filename, 'advisor':advisor, 'version':version, \\\n",
    "               'rating_1':rating_1, 'rating_2':rating_2, 'rating':rating, \\\n",
    "               'stock':stock, 'date':date, \\\n",
    "               'tp_1':tp_1, 'tp_2':tp_2, 'tp':tp, \\\n",
    "                'author_1':author_1, 'author_2':author_2, 'author':author, \\\n",
    "                'summary_1':summary_1, 'summary_2':summary_2, 'summary':summary}\n",
    "    result = pd.concat([result, pd.DataFrame(new_row, index=[0])], ignore_index=True)\n",
    "    "
   ]
  },
  {
   "cell_type": "code",
   "execution_count": 3,
   "metadata": {},
   "outputs": [],
   "source": [
    "result.to_csv(f'{pdfReader.__class__.__name__}_result.csv', encoding=\"utf_8_sig\")"
   ]
  },
  {
   "cell_type": "code",
   "execution_count": 4,
   "metadata": {},
   "outputs": [
    {
     "name": "stdout",
     "output_type": "stream",
     "text": [
      "filename == \"NULL\": 0\n",
      "advisor == \"NULL\": 2\n",
      "version == \"NULL\": 4\n",
      "stock == \"NULL\": 113\n",
      "date == \"NULL\": 113\n",
      "rating == \"NULL\": 27\n",
      "tp == \"NULL\": 10\n",
      "author == \"NULL\": 4\n",
      "summary == \"NULL\": 4\n"
     ]
    }
   ],
   "source": [
    "col_name = ['filename', 'advisor', 'version', 'stock', 'date', 'rating', 'tp', 'author', 'summary']\n",
    "for col in col_name:\n",
    "    print(f'{col} == \"NULL\": {len(result[result[col] == \"NULL\"])}')\n"
   ]
  },
  {
   "cell_type": "code",
   "execution_count": 5,
   "metadata": {},
   "outputs": [
    {
     "data": {
      "text/plain": [
       "author\n",
       "                       31\n",
       "5.39                    1\n",
       "6%                      3\n",
       "8                       1\n",
       "9%                      1\n",
       "NULL                    4\n",
       "Q                       1\n",
       "YoY                     1\n",
       "主                       1\n",
       "來                       1\n",
       "價                       1\n",
       "動率                      1\n",
       "同期                      1\n",
       "吳宇鎣                     1\n",
       "呂旻旂/ 紡織、製鞋、伺服器          1\n",
       "呂旻旂/紡織、製鞋、伺服器           2\n",
       "呂理舜                     8\n",
       "呂理舜,                    1\n",
       "增                       2\n",
       "庫存                      1\n",
       "徐凰原                     3\n",
       "徐凰原 / IC 設計、晶圓代工、封測     1\n",
       "擴                       1\n",
       "本                       1\n",
       "李朋潤                     1\n",
       "林裕禮                     6\n",
       "格                       1\n",
       "游勳儒 / 塑化．水泥．鋼鐵          1\n",
       "王俊穎                     3\n",
       "能回                      1\n",
       "藍文彥                     2\n",
       "藍文彥 / 金融、消費、工業          2\n",
       "蘇品嘉                     4\n",
       "許志緯                     1\n",
       "賴威誠                     1\n",
       "賴威誠/研究員                 1\n",
       "載                       1\n",
       "轉                       1\n",
       "近                       1\n",
       "郭經緯, CPA               11\n",
       "醫療保健                    1\n",
       "長。                      1\n",
       "，                       2\n",
       "，故                      1\n",
       "dtype: int64"
      ]
     },
     "execution_count": 5,
     "metadata": {},
     "output_type": "execute_result"
    }
   ],
   "source": [
    "result.groupby([\"author\"]).size()"
   ]
  }
 ],
 "metadata": {
  "kernelspec": {
   "display_name": "venv",
   "language": "python",
   "name": "python3"
  },
  "language_info": {
   "codemirror_mode": {
    "name": "ipython",
    "version": 3
   },
   "file_extension": ".py",
   "mimetype": "text/x-python",
   "name": "python",
   "nbconvert_exporter": "python",
   "pygments_lexer": "ipython3",
   "version": "3.11.1"
  },
  "orig_nbformat": 4
 },
 "nbformat": 4,
 "nbformat_minor": 2
}
