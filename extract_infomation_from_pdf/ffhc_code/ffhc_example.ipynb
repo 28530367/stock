{
 "cells": [
  {
   "cell_type": "code",
   "execution_count": 1,
   "metadata": {},
   "outputs": [],
   "source": [
    "from ffhc import Ffhc\n",
    "import tqdm\n",
    "import pandas as pd\n",
    "import os"
   ]
  },
  {
   "cell_type": "code",
   "execution_count": 2,
   "metadata": {},
   "outputs": [
    {
     "name": "stderr",
     "output_type": "stream",
     "text": [
      "100%|██████████| 37/37 [00:01<00:00, 20.26it/s]\n"
     ]
    }
   ],
   "source": [
    "root = '/home/shouweihuang/Lab_Training/stock/extract_infomation_from_pdf/files/第一金/'\n",
    "result = pd.DataFrame()\n",
    "\n",
    "for filename in tqdm.tqdm(os.listdir(root)):\n",
    "    file_path = os.path.join(root, filename)\n",
    "    pdfReader = Ffhc(file_path)\n",
    "    advisor, version, stock, date, rating_1, rating_2, rating, tp_1, tp_2, \\\n",
    "        tp, author_1, author_2, author, summary_1, summary_2, summary = pdfReader.get_all()\n",
    "    new_row = {'filename':filename, 'advisor':advisor, 'version':version, \\\n",
    "               'rating_1':rating_1, 'rating_2':rating_2, 'rating':rating, \\\n",
    "               'stock':stock, 'date':date, \\\n",
    "               'tp_1':tp_1, 'tp_2':tp_2, 'tp':tp, \\\n",
    "                'author_1':author_1, 'author_2':author_2, 'author':author, \\\n",
    "                'summary_1':summary_1, 'summary_2':summary_2, 'summary':summary}\n",
    "    result = pd.concat([result, pd.DataFrame(new_row, index=[0])], ignore_index=True)"
   ]
  },
  {
   "cell_type": "code",
   "execution_count": 3,
   "metadata": {},
   "outputs": [],
   "source": [
    "result.to_csv(f'{pdfReader.__class__.__name__}_result.csv', encoding=\"utf_8_sig\")"
   ]
  },
  {
   "cell_type": "code",
   "execution_count": 4,
   "metadata": {},
   "outputs": [
    {
     "name": "stdout",
     "output_type": "stream",
     "text": [
      "filename == \"NULL\": 0\n",
      "advisor == \"NULL\": 0\n",
      "version == \"NULL\": 0\n",
      "stock == \"NULL\": 0\n",
      "date == \"NULL\": 0\n",
      "rating == \"NULL\": 0\n",
      "tp == \"NULL\": 2\n",
      "author == \"NULL\": 37\n",
      "summary == \"NULL\": 37\n"
     ]
    }
   ],
   "source": [
    "col_name = ['filename', 'advisor', 'version', 'stock', 'date', 'rating', 'tp', 'author', 'summary']\n",
    "for col in col_name:\n",
    "    print(f'{col} == \"NULL\": {len(result[result[col] == \"NULL\"])}')\n"
   ]
  },
  {
   "cell_type": "code",
   "execution_count": 5,
   "metadata": {},
   "outputs": [
    {
     "data": {
      "text/plain": [
       "author\n",
       "NULL    37\n",
       "dtype: int64"
      ]
     },
     "execution_count": 5,
     "metadata": {},
     "output_type": "execute_result"
    }
   ],
   "source": [
    "result.groupby([\"author\"]).size()"
   ]
  }
 ],
 "metadata": {
  "kernelspec": {
   "display_name": "venv",
   "language": "python",
   "name": "python3"
  },
  "language_info": {
   "codemirror_mode": {
    "name": "ipython",
    "version": 3
   },
   "file_extension": ".py",
   "mimetype": "text/x-python",
   "name": "python",
   "nbconvert_exporter": "python",
   "pygments_lexer": "ipython3",
   "version": "3.10.12"
  },
  "orig_nbformat": 4
 },
 "nbformat": 4,
 "nbformat_minor": 2
}
